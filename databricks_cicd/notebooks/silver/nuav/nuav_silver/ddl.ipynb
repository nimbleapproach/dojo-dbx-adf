{
 "cells": [
  {
   "cell_type": "code",
   "execution_count": null,
   "metadata": {},
   "outputs": [],
   "source": [
    "dbutils.widgets.text('catalog', '')\n",
    "catalog = dbutils.widgets.get('catalog')"
   ]
  },
  {
   "cell_type": "code",
   "execution_count": null,
   "metadata": {},
   "outputs": [],
   "source": [
    "\n",
    "spark.sql(\n",
    "    f\"\"\"\n",
    "    CREATE OR REPLACE TABLE {catalog}.nuav.nuav (\n",
    "        nuav_id INT NOT NULL COMMENT 'Category ID',\n",
    "        nuav_desc STRING NOT NULL COMMENT 'Category description'\n",
    "        \n",
    "        valid_from DATE COMMENT 'Date which the category is valid from, nullable as may be unknown',\n",
    "        valid_to DATE COMMENT 'Date which the category is valid to, the date pertains to the date when the category changed or ended'\n",
    "    )\n",
    "    COMMENT 'This table provides a mapping of category changes.'\n",
    "    TBLPROPERTIES (\n",
    "    delta.enableChangeDataFeed = true,\n",
    "    delta.columnMapping.mode = 'name',\n",
    "    table_schema.version = 1\n",
    "    )\n",
    "    \"\"\"\n",
    ")"
   ]
  }
 ],
 "metadata": {
  "language_info": {
   "name": "python"
  }
 },
 "nbformat": 4,
 "nbformat_minor": 2
}
